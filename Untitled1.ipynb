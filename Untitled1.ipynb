{
 "cells": [
  {
   "cell_type": "code",
   "execution_count": 1,
   "id": "e63c06d6",
   "metadata": {},
   "outputs": [],
   "source": [
    "import tkinter as tkn\n",
    "app=tkn.Tk()\n",
    "app.title('calculator')\n",
    "app.geometry('400x400')\n",
    "\n",
    "\n",
    "tkn.Label(app,text='a',textvariable='a',font=('',25)).place(x=0,y=0)\n",
    "tkn.Label(app,text='b',textvariable='b',font=('',25)).place(x=200,y=0)\n",
    "tkn.Label(app,text='Ans',textvariable='res',font=('',25)).place(x=80,y=200)\n",
    "\n",
    "\n",
    "a=tkn.Variable(app)\n",
    "tkn.Entry(app,textvariable=a).place(x=50,y=15)\n",
    "b=tkn.Variable(app)\n",
    "tkn.Entry(app,textvariable=b).place(x=250,y=15)\n",
    "res=tkn.Variable(app)\n",
    "tkn.Entry(app,textvariable=res).place(x=150,y=210)\n",
    "\n",
    "\n",
    "def calculator(op):\n",
    "    res.set(eval(a.get()+op+b.get()))\n",
    "    \n",
    "    \n",
    "tkn.Button(app,text='+',font=('',20),command=lambda:calculator('+')).place(x=0,y=50)\n",
    "tkn.Button(app,text='-',font=('',20),command=lambda:calculator('-')).place(x=50,y=50)\n",
    "tkn.Button(app,text='x',font=('',20),command=lambda:calculator('*')).place(x=100,y=50)\n",
    "tkn.Button(app,text='/',font=('',20),command=lambda:calculator('/')).place(x=150,y=50)\n",
    "\n",
    "\n",
    "app.mainloop()"
   ]
  },
  {
   "cell_type": "code",
   "execution_count": null,
   "id": "c09edaa3",
   "metadata": {},
   "outputs": [],
   "source": []
  }
 ],
 "metadata": {
  "kernelspec": {
   "display_name": "Python 3 (ipykernel)",
   "language": "python",
   "name": "python3"
  },
  "language_info": {
   "codemirror_mode": {
    "name": "ipython",
    "version": 3
   },
   "file_extension": ".py",
   "mimetype": "text/x-python",
   "name": "python",
   "nbconvert_exporter": "python",
   "pygments_lexer": "ipython3",
   "version": "3.9.7"
  }
 },
 "nbformat": 4,
 "nbformat_minor": 5
}
